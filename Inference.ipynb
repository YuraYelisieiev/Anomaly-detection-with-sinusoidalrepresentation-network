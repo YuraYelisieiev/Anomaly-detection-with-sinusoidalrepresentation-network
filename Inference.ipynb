{
 "cells": [
  {
   "cell_type": "code",
   "execution_count": 8,
   "metadata": {
    "trusted": true
   },
   "outputs": [],
   "source": [
    "from torch.utils.data import Dataset\n",
    "from torch.utils.data import DataLoader\n",
    "from torchvision import transforms, utils\n",
    "from models import SingleBVPNet, CropConvNeuralProcess, Discriminator, TripletNet\n",
    "from modules import RGAN, Reconstruction\n",
    "import torch\n",
    "import numpy as np\n",
    "from PIL import Image, ImageOps\n",
    "import dataio\n",
    "from dataio import get_mgrid\n",
    "import torch.nn as nn\n",
    "import scipy\n",
    "from pycocotools.coco import COCO\n",
    "import loss_functions\n",
    "import os\n",
    "import skimage.io as io\n",
    "import matplotlib.pyplot as plt\n",
    "from functools import partial\n",
    "import yaml\n",
    "from glob import glob\n",
    "from copy import deepcopy\n",
    "import torchvision.models as models\n",
    "import cv2"
   ]
  },
  {
   "cell_type": "code",
   "execution_count": 9,
   "metadata": {
    "trusted": true
   },
   "outputs": [],
   "source": [
    "class TextureDataset(Dataset):\n",
    "    def __init__(self, config, transform, part):\n",
    "        self.part = part\n",
    "        if self.part == \"train\":\n",
    "            self.root_dir = config['data']['train_dir']\n",
    "        else:\n",
    "            self.root_dir = config['data']['val_dir']\n",
    "        self.image_size = config['data']['image_size']\n",
    "        self.after_crop_size = config['data']['after_crop_size']\n",
    "        self.center = self.after_crop_size // 2\n",
    "        self.cv = self.after_crop_size // 4\n",
    "        \n",
    "        self.image_type = config['data']['image_type']\n",
    "        self.transform = transform\n",
    "        self.img_channels = 1\n",
    "        \n",
    "        self.rotate = transforms.Compose([\n",
    "            transforms.RandomRotation(90)\n",
    "        ])\n",
    "        \n",
    "        self.crop = transforms.Compose([\n",
    "            transforms.CenterCrop(self.after_crop_size)\n",
    "        ])\n",
    "        \n",
    "        self.file_list = []\n",
    "        for root, dirs, files in os.walk(self.root_dir):\n",
    "            for file in files:\n",
    "                self.file_list.append(os.path.join(root, file))\n",
    "    \n",
    "    def __len__(self):\n",
    "        return len(self.file_list)\n",
    "    \n",
    "    def __getitem__(self, idx):\n",
    "        X = dict()\n",
    "        img_path = self.file_list[idx]\n",
    "        rivet = Image.open(img_path).resize((self.image_size, self.image_size))\n",
    "        rotated = deepcopy(rivet)\n",
    "        \n",
    "        rivet = self.crop(rivet)\n",
    "        rotated = self.rotate(rotated)\n",
    "        rotated = self.crop(rotated)\n",
    "        \n",
    "        croped = self.crop(rotated)\n",
    "        \n",
    "        if self.image_type == \"Corrupted\":\n",
    "            rivet = np.array(rivet)\n",
    "            full_rivet = deepcopy(rivet)\n",
    "            center_rivet = deepcopy(rivet[self.center - self.cv: self.center + self.cv, self.center - self.cv: self.center + self.cv])\n",
    "            rivet[self.center - self.cv: self.center + self.cv, self.center - self.cv: self.center + self.cv] = 0.0\n",
    "            cropped = deepcopy(rivet)\n",
    "            \n",
    "            rivet = Image.fromarray(rivet)\n",
    "            cropped = Image.fromarray(cropped)\n",
    "            full_rivet = Image.fromarray(full_rivet)\n",
    "            center_rivet = center_rivet.astype(np.uint8)\n",
    "            center_rivet = Image.fromarray(center_rivet)\n",
    "                \n",
    "        elif self.image_type == \"TriMir\":\n",
    "            rivet = tri_mirror(rivet, self.center, self.cv)\n",
    "            \n",
    "        rivet = self.transform(rivet)\n",
    "        cropped = self.transform(cropped)\n",
    "        full_rivet = self.transform(full_rivet)\n",
    "        center_rivet = self.transform(center_rivet)\n",
    "        rotated = self.transform(rotated)\n",
    "        \n",
    "        center_rivet = center_rivet.unsqueeze(0)\n",
    "\n",
    "        X['Rivet'] = rivet\n",
    "        X['Center'] = center_rivet\n",
    "        X['Rotated'] = rotated\n",
    "        X['Full'] = full_rivet\n",
    "        X['Crop'] = cropped\n",
    "        return X\n",
    "\n",
    "class Implicit2DWrapper(torch.utils.data.Dataset):\n",
    "    def __init__(self, dataset, sidelength=None, compute_diff=None):\n",
    "\n",
    "        if isinstance(sidelength, int):\n",
    "            sidelength = (sidelength, sidelength)\n",
    "        self.sidelength = sidelength\n",
    "\n",
    "        self.compute_diff = compute_diff\n",
    "        self.dataset = dataset\n",
    "        self.mgrid = get_mgrid(sidelength)\n",
    "\n",
    "    def __len__(self):\n",
    "        return len(self.dataset)\n",
    "\n",
    "    def __getitem__(self, idx):\n",
    "        item = self.dataset[idx]\n",
    "        borders = item['Rivet']\n",
    "        img = item['Center']\n",
    "        full_rivet = item['Full']\n",
    "        cropped = item['Crop']\n",
    "        rotated = item['Rotated']\n",
    "\n",
    "        if self.compute_diff == 'gradients':\n",
    "            img *= 1e1\n",
    "            gradx = scipy.ndimage.sobel(img.numpy(), axis=1).squeeze(0)[..., None]\n",
    "            grady = scipy.ndimage.sobel(img.numpy(), axis=2).squeeze(0)[..., None]\n",
    "        elif self.compute_diff == 'laplacian':\n",
    "            img *= 1e4\n",
    "            laplace = scipy.ndimage.laplace(img.numpy()).squeeze(0)[..., None]\n",
    "        elif self.compute_diff == 'all':\n",
    "            gradx = scipy.ndimage.sobel(img.numpy(), axis=1).squeeze(0)[..., None]\n",
    "            grady = scipy.ndimage.sobel(img.numpy(), axis=2).squeeze(0)[..., None]\n",
    "            laplace = scipy.ndimage.laplace(img.numpy()).squeeze(0)[..., None]\n",
    "        \n",
    "        \n",
    "        img = img.squeeze(0)\n",
    "        img = img.permute(1, 2, 0).view(-1, self.dataset.img_channels)\n",
    "\n",
    "        in_dict = {'idx': idx, 'coords': self.mgrid, \"border\": borders, 'rotated': rotated}\n",
    "        gt_dict = {'img': img, 'full': full_rivet, 'crop': cropped}\n",
    "#         gt_dict = {'img': img}\n",
    "\n",
    "        if self.compute_diff == 'gradients':\n",
    "            gradients = torch.cat((torch.from_numpy(gradx).reshape(-1, 1),\n",
    "                                   torch.from_numpy(grady).reshape(-1, 1)),\n",
    "                                  dim=-1)\n",
    "#             dataio.grads2img(dataio.lin2img(gt['gradients'])).permute(1, 2, 0).squeeze().detach().cpu().numpy()\n",
    "            gt_dict.update({'gradients': gradients})\n",
    "\n",
    "        elif self.compute_diff == 'laplacian':\n",
    "            gt_dict.update({'laplace': torch.from_numpy(laplace).view(-1, 1)})\n",
    "\n",
    "        elif self.compute_diff == 'all':\n",
    "            gradients = torch.cat((torch.from_numpy(gradx).reshape(-1, 1),\n",
    "                                   torch.from_numpy(grady).reshape(-1, 1)),\n",
    "                                  dim=-1)\n",
    "            gt_dict.update({'gradients': gradients})\n",
    "            gt_dict.update({'laplace': torch.from_numpy(laplace).view(-1, 1)})\n",
    "\n",
    "        return in_dict, gt_dict\n",
    "\n",
    "    def get_item_small(self, idx):\n",
    "        img = self.dataset[idx]\n",
    "        spatial_img = img.clone()\n",
    "        img = img.permute(1, 2, 0).view(-1, self.dataset.img_channels)\n",
    "\n",
    "        gt_dict = {'img': img}\n",
    "\n",
    "        return spatial_img, img, gt_dict"
   ]
  },
  {
   "cell_type": "code",
   "execution_count": 10,
   "metadata": {
    "trusted": true
   },
   "outputs": [],
   "source": [
    "with open(\"config.yaml\", \"r\") as f:\n",
    "    config = yaml.load(f, Loader=yaml.FullLoader)\n",
    "\n",
    "transform = transforms.Compose([\n",
    "        transforms.Grayscale(num_output_channels=1),\n",
    "        transforms.ToTensor()])\n",
    "\n",
    "dataset = TextureDataset(config, transform, \"val\")\n",
    "coord_dataset = Implicit2DWrapper(dataset, sidelength=config['data']['after_crop_size']//2, compute_diff='all')\n",
    "dataloader = DataLoader(coord_dataset, batch_size=1, shuffle=True, num_workers=0)"
   ]
  },
  {
   "cell_type": "code",
   "execution_count": 11,
   "metadata": {
    "trusted": true
   },
   "outputs": [
    {
     "name": "stdout",
     "output_type": "stream",
     "text": [
      "SingleBVPNet(\n",
      "  (image_downsampling): ImageDownsampling()\n",
      "  (net): FCBlock(\n",
      "    (net): MetaSequential(\n",
      "      (0): MetaSequential(\n",
      "        (0): BatchLinear(in_features=514, out_features=1024, bias=True)\n",
      "        (1): Sine()\n",
      "      )\n",
      "      (1): MetaSequential(\n",
      "        (0): BatchLinear(in_features=1024, out_features=1024, bias=True)\n",
      "        (1): Sine()\n",
      "      )\n",
      "      (2): MetaSequential(\n",
      "        (0): BatchLinear(in_features=1024, out_features=1024, bias=True)\n",
      "        (1): Sine()\n",
      "      )\n",
      "      (3): MetaSequential(\n",
      "        (0): BatchLinear(in_features=1024, out_features=1024, bias=True)\n",
      "        (1): Sine()\n",
      "      )\n",
      "      (4): MetaSequential(\n",
      "        (0): BatchLinear(in_features=1024, out_features=1024, bias=True)\n",
      "        (1): Sine()\n",
      "      )\n",
      "      (5): MetaSequential(\n",
      "        (0): BatchLinear(in_features=1024, out_features=1024, bias=True)\n",
      "        (1): Sine()\n",
      "      )\n",
      "      (6): MetaSequential(\n",
      "        (0): BatchLinear(in_features=1024, out_features=1, bias=True)\n",
      "      )\n",
      "    )\n",
      "  )\n",
      ")\n"
     ]
    }
   ],
   "source": [
    "image_resolution = config['data']['after_crop_size']//2\n",
    "in_features = 8194\n",
    "model = RGAN(config)"
   ]
  },
  {
   "cell_type": "code",
   "execution_count": 12,
   "metadata": {
    "trusted": true
   },
   "outputs": [
    {
     "name": "stdout",
     "output_type": "stream",
     "text": [
      "SingleBVPNet(\n",
      "  (image_downsampling): ImageDownsampling()\n",
      "  (net): FCBlock(\n",
      "    (net): MetaSequential(\n",
      "      (0): MetaSequential(\n",
      "        (0): BatchLinear(in_features=514, out_features=1024, bias=True)\n",
      "        (1): Sine()\n",
      "      )\n",
      "      (1): MetaSequential(\n",
      "        (0): BatchLinear(in_features=1024, out_features=1024, bias=True)\n",
      "        (1): Sine()\n",
      "      )\n",
      "      (2): MetaSequential(\n",
      "        (0): BatchLinear(in_features=1024, out_features=1024, bias=True)\n",
      "        (1): Sine()\n",
      "      )\n",
      "      (3): MetaSequential(\n",
      "        (0): BatchLinear(in_features=1024, out_features=1024, bias=True)\n",
      "        (1): Sine()\n",
      "      )\n",
      "      (4): MetaSequential(\n",
      "        (0): BatchLinear(in_features=1024, out_features=1024, bias=True)\n",
      "        (1): Sine()\n",
      "      )\n",
      "      (5): MetaSequential(\n",
      "        (0): BatchLinear(in_features=1024, out_features=1024, bias=True)\n",
      "        (1): Sine()\n",
      "      )\n",
      "      (6): MetaSequential(\n",
      "        (0): BatchLinear(in_features=1024, out_features=1, bias=True)\n",
      "      )\n",
      "    )\n",
      "  )\n",
      ")\n"
     ]
    }
   ],
   "source": [
    "new_model = Reconstruction.load_from_checkpoint(checkpoint_path=\"lightning_logs/version_59/checkpoints/N-Step-Checkpoint_epoch=99000_global_step=99000.ckpt\", config=config).cuda()"
   ]
  },
  {
   "cell_type": "code",
   "execution_count": 13,
   "metadata": {
    "trusted": true
   },
   "outputs": [],
   "source": "cos = nn.PairwiseDistance()\n# cos = nn.CosineSimilarity(dim=1, eps=1e-6)\ntriplet = nn.TripletMarginWithDistanceLoss(margin=0.1)\nloss_fn = partial(loss_functions.image_mse, None)"
  },
  {
   "cell_type": "code",
   "execution_count": 14,
   "metadata": {
    "trusted": true
   },
   "outputs": [
    {
     "ename": "ModuleAttributeError",
     "evalue": "'Reconstruction' object has no attribute 'discriminator'",
     "output_type": "error",
     "traceback": [
      "\u001B[0;31m---------------------------------------------------------------------------\u001B[0m",
      "\u001B[0;31mModuleAttributeError\u001B[0m                      Traceback (most recent call last)",
      "\u001B[0;32m<ipython-input-14-fbc8a9f040a7>\u001B[0m in \u001B[0;36m<module>\u001B[0;34m\u001B[0m\n\u001B[1;32m     14\u001B[0m     \u001B[0md_pred\u001B[0m \u001B[0;34m=\u001B[0m \u001B[0mtorch\u001B[0m\u001B[0;34m.\u001B[0m\u001B[0mfrom_numpy\u001B[0m\u001B[0;34m(\u001B[0m\u001B[0minput_pred\u001B[0m\u001B[0;34m)\u001B[0m\u001B[0;34m.\u001B[0m\u001B[0munsqueeze\u001B[0m\u001B[0;34m(\u001B[0m\u001B[0;36m0\u001B[0m\u001B[0;34m)\u001B[0m\u001B[0;34m.\u001B[0m\u001B[0munsqueeze\u001B[0m\u001B[0;34m(\u001B[0m\u001B[0;36m0\u001B[0m\u001B[0;34m)\u001B[0m\u001B[0;34m.\u001B[0m\u001B[0mcuda\u001B[0m\u001B[0;34m(\u001B[0m\u001B[0;34m)\u001B[0m\u001B[0;34m\u001B[0m\u001B[0;34m\u001B[0m\u001B[0m\n\u001B[1;32m     15\u001B[0m \u001B[0;34m\u001B[0m\u001B[0m\n\u001B[0;32m---> 16\u001B[0;31m     \u001B[0mfull_score\u001B[0m \u001B[0;34m=\u001B[0m \u001B[0mnew_model\u001B[0m\u001B[0;34m.\u001B[0m\u001B[0mget_embedding\u001B[0m\u001B[0;34m(\u001B[0m\u001B[0md_full\u001B[0m\u001B[0;34m)\u001B[0m\u001B[0;34m\u001B[0m\u001B[0;34m\u001B[0m\u001B[0m\n\u001B[0m\u001B[1;32m     17\u001B[0m     \u001B[0mpred_score\u001B[0m \u001B[0;34m=\u001B[0m \u001B[0mnew_model\u001B[0m\u001B[0;34m.\u001B[0m\u001B[0mget_embedding\u001B[0m\u001B[0;34m(\u001B[0m\u001B[0md_pred\u001B[0m\u001B[0;34m)\u001B[0m\u001B[0;34m\u001B[0m\u001B[0;34m\u001B[0m\u001B[0m\n\u001B[1;32m     18\u001B[0m     \u001B[0mrotated_score\u001B[0m \u001B[0;34m=\u001B[0m \u001B[0mnew_model\u001B[0m\u001B[0;34m.\u001B[0m\u001B[0mget_embedding\u001B[0m\u001B[0;34m(\u001B[0m\u001B[0mmodel_input\u001B[0m\u001B[0;34m[\u001B[0m\u001B[0;34m'rotated'\u001B[0m\u001B[0;34m]\u001B[0m\u001B[0;34m)\u001B[0m\u001B[0;34m\u001B[0m\u001B[0;34m\u001B[0m\u001B[0m\n",
      "\u001B[0;32m~/LuftronixPyTorch/Siren/modules.py\u001B[0m in \u001B[0;36mget_embedding\u001B[0;34m(self, x)\u001B[0m\n\u001B[1;32m     88\u001B[0m \u001B[0;34m\u001B[0m\u001B[0m\n\u001B[1;32m     89\u001B[0m     \u001B[0;32mdef\u001B[0m \u001B[0mget_embedding\u001B[0m\u001B[0;34m(\u001B[0m\u001B[0mself\u001B[0m\u001B[0;34m,\u001B[0m \u001B[0mx\u001B[0m\u001B[0;34m)\u001B[0m\u001B[0;34m:\u001B[0m\u001B[0;34m\u001B[0m\u001B[0;34m\u001B[0m\u001B[0m\n\u001B[0;32m---> 90\u001B[0;31m         \u001B[0;32mreturn\u001B[0m \u001B[0mself\u001B[0m\u001B[0;34m.\u001B[0m\u001B[0mdiscriminator\u001B[0m\u001B[0;34m.\u001B[0m\u001B[0mget_embedding\u001B[0m\u001B[0;34m(\u001B[0m\u001B[0mx\u001B[0m\u001B[0;34m)\u001B[0m\u001B[0;34m\u001B[0m\u001B[0;34m\u001B[0m\u001B[0m\n\u001B[0m\u001B[1;32m     91\u001B[0m \u001B[0;34m\u001B[0m\u001B[0m\n\u001B[1;32m     92\u001B[0m     \u001B[0;32mdef\u001B[0m \u001B[0mgenerator_loss\u001B[0m\u001B[0;34m(\u001B[0m\u001B[0mself\u001B[0m\u001B[0;34m,\u001B[0m \u001B[0mgenerator_out\u001B[0m\u001B[0;34m,\u001B[0m \u001B[0mgt\u001B[0m\u001B[0;34m)\u001B[0m\u001B[0;34m:\u001B[0m\u001B[0;34m\u001B[0m\u001B[0;34m\u001B[0m\u001B[0m\n",
      "\u001B[0;32m~/my_envs/Siren/lib/python3.8/site-packages/torch/nn/modules/module.py\u001B[0m in \u001B[0;36m__getattr__\u001B[0;34m(self, name)\u001B[0m\n\u001B[1;32m    776\u001B[0m             \u001B[0;32mif\u001B[0m \u001B[0mname\u001B[0m \u001B[0;32min\u001B[0m \u001B[0mmodules\u001B[0m\u001B[0;34m:\u001B[0m\u001B[0;34m\u001B[0m\u001B[0;34m\u001B[0m\u001B[0m\n\u001B[1;32m    777\u001B[0m                 \u001B[0;32mreturn\u001B[0m \u001B[0mmodules\u001B[0m\u001B[0;34m[\u001B[0m\u001B[0mname\u001B[0m\u001B[0;34m]\u001B[0m\u001B[0;34m\u001B[0m\u001B[0;34m\u001B[0m\u001B[0m\n\u001B[0;32m--> 778\u001B[0;31m         raise ModuleAttributeError(\"'{}' object has no attribute '{}'\".format(\n\u001B[0m\u001B[1;32m    779\u001B[0m             type(self).__name__, name))\n\u001B[1;32m    780\u001B[0m \u001B[0;34m\u001B[0m\u001B[0m\n",
      "\u001B[0;31mModuleAttributeError\u001B[0m: 'Reconstruction' object has no attribute 'discriminator'"
     ]
    },
    {
     "data": {
      "text/plain": "<Figure size 720x720 with 20 Axes>",
      "image/png": "[encoded data removed]"
     },
     "metadata": {
      "needs_background": "light"
     },
     "output_type": "display_data"
    }
   ],
   "source": "fig,axes = plt.subplots(nrows = 5, ncols = 4, figsize=(10,10))\ncenter = 64 // 2\ncv = 64 // 4\nfor step, (model_input, gt) in enumerate(dataloader):\n    model_input = {key: value.cuda() for key, value in model_input.items()}\n    gt = {key: value.cuda() for key, value in gt.items()}\n    model_output = new_model.generator(model_input)\n    full_img = gt['full'].cpu().numpy()[0][0]\n    cropped = gt['crop'].cpu().numpy()[0][0]\n    pred_img = dataio.lin2img(model_output['model_out'], image_resolution).detach().cpu().numpy()[0][0]\n    input_pred = deepcopy(cropped)\n    input_pred[center - cv: center + cv, center - cv: center + cv] = pred_img\n    d_full = torch.from_numpy(full_img).unsqueeze(0).unsqueeze(0).cuda()\n    d_pred = torch.from_numpy(input_pred).unsqueeze(0).unsqueeze(0).cuda()\n    \n    full_score = new_model.get_embedding(d_full)\n    pred_score = new_model.get_embedding(d_pred)\n    rotated_score = new_model.get_embedding(model_input['rotated'])\n    \n    positive_cosine = cos(pred_score, rotated_score)\n    negative_cosine = cos(full_score, rotated_score)\n    gt_cosine = cos(full_score, pred_score)\n    mse = loss_fn(model_output, gt)['img_loss']\n    \n    print(f\"Image {step}\")\n    print(f\"Pred-Rotated Cosine sim: {positive_cosine[0] * 1000}\")\n    print(f\"GT-Rotated Cosine sim: {negative_cosine[0] * 1000}\")\n    print(f\"GT-Pred Cosine sim: {gt_cosine[0] * 1000}\")\n    print(f\"MSE: {mse}\")\n    \n    axes[step][0].imshow(full_img, cmap='gray')\n    axes[step][1].imshow(cropped, cmap='gray')\n    cropped[center - cv: center + cv, center - cv: center + cv] = pred_img\n    diff = np.absolute(full_img - cropped)\n    score = np.sum(diff)\n    axes[step][2].imshow(cropped, cmap='gray')\n    axes[step][3].imshow(model_input['rotated'].squeeze(0).squeeze(0).cpu().numpy(), cmap='gray')\n    if step == 4:\n        break"
  },
  {
   "cell_type": "code",
   "execution_count": 228,
   "metadata": {
    "trusted": true
   },
   "outputs": [],
   "source": "image_size = 80\ncenter = 64 // 2\ncv = 64 // 4\n\nrotate = transforms.Compose([\n            transforms.RandomRotation(90)])\n\ncrop = transforms.Compose([\n            transforms.CenterCrop(64)])\n\ntransform = transforms.Compose([\n            transforms.Grayscale(num_output_channels=1),\n            transforms.ToTensor()])"
  },
  {
   "cell_type": "code",
   "execution_count": 229,
   "metadata": {
    "trusted": true
   },
   "outputs": [],
   "source": "X = dict()\nrivet = Image.open(\"gray.jpg\").resize((image_size, image_size))\nrotated = deepcopy(rivet)\n\nrivet = crop(rivet)\nrotated = rotate(rotated)\nrotated = crop(rotated)\n\ncroped = crop(rotated)\n\n\nrivet = np.array(rivet)\nfull_rivet = deepcopy(rivet)\ncenter_rivet = deepcopy(rivet[center - cv: center + cv, center - cv: center + cv])\nrivet[center - cv: center + cv, center - cv: center + cv] = 0.0\ncropped = deepcopy(rivet)\n\nrivet = Image.fromarray(rivet)\ncropped = Image.fromarray(cropped)\nfull_rivet = Image.fromarray(full_rivet)\ncenter_rivet = center_rivet.astype(np.uint8)\ncenter_rivet = Image.fromarray(center_rivet)\n\nrivet = transform(rivet)\ncropped = transform(cropped)\nfull_rivet = transform(full_rivet)\ncenter_rivet = transform(center_rivet)\nrotated = transform(rotated)\n\ncenter_rivet = center_rivet.unsqueeze(0)\n\nX['Rivet'] = rivet\nX['Center'] = center_rivet\nX['Rotated'] = rotated\nX['Full'] = full_rivet\nX['Crop'] = cropped"
  },
  {
   "cell_type": "code",
   "execution_count": 230,
   "metadata": {
    "trusted": true
   },
   "outputs": [],
   "source": "borders = X['Rivet']\nimg = X['Center']\nfull_rivet = X['Full']\ncropped = X['Crop']\nrotated = X['Rotated']"
  },
  {
   "cell_type": "code",
   "execution_count": 231,
   "metadata": {
    "trusted": true
   },
   "outputs": [],
   "source": "img = img.squeeze(0)\nimg = img.permute(1, 2, 0).view(-1, 1).cuda()"
  },
  {
   "cell_type": "code",
   "execution_count": 232,
   "metadata": {
    "trusted": true
   },
   "outputs": [],
   "source": "mgrid = get_mgrid((32))"
  },
  {
   "cell_type": "code",
   "execution_count": 233,
   "metadata": {
    "trusted": true
   },
   "outputs": [],
   "source": "in_dict = {'idx': 0, 'coords': mgrid.unsqueeze(0).cuda(), \"border\": borders.unsqueeze(0).cuda(), 'rotated': rotated.unsqueeze(0).cuda()}"
  },
  {
   "cell_type": "code",
   "execution_count": 234,
   "metadata": {
    "trusted": true
   },
   "outputs": [],
   "source": "model_output = new_model.generator(in_dict)"
  },
  {
   "cell_type": "code",
   "execution_count": 235,
   "metadata": {
    "trusted": true
   },
   "outputs": [],
   "source": "pred_img = dataio.lin2img(model_output['model_out'], 32).squeeze(0).squeeze(0).detach().cpu().numpy()"
  },
  {
   "cell_type": "code",
   "execution_count": 236,
   "metadata": {
    "trusted": true
   },
   "outputs": [
    {
     "name": "stdout",
     "output_type": "stream",
     "text": "torch.Size([1, 64, 64])\n"
    }
   ],
   "source": "print(cropped.shape)"
  },
  {
   "cell_type": "code",
   "execution_count": 237,
   "metadata": {
    "trusted": true
   },
   "outputs": [],
   "source": "input_pred = deepcopy(cropped[0]).numpy()\ninput_pred[center - cv: center + cv, center - cv: center + cv] = pred_img"
  },
  {
   "cell_type": "code",
   "execution_count": 240,
   "metadata": {
    "trusted": true
   },
   "outputs": [
    {
     "data": {
      "text/plain": "(64, 64)"
     },
     "execution_count": 240,
     "metadata": {},
     "output_type": "execute_result"
    }
   ],
   "source": "input_pred.shape"
  },
  {
   "cell_type": "code",
   "execution_count": 242,
   "metadata": {
    "trusted": true
   },
   "outputs": [
    {
     "data": {
      "text/plain": "<matplotlib.image.AxesImage at 0x7f563f731130>"
     },
     "execution_count": 242,
     "metadata": {},
     "output_type": "execute_result"
    },
    {
     "data": {
      "image/png": "[encoded data removed]",
      "text/plain": "<Figure size 432x288 with 1 Axes>"
     },
     "metadata": {
      "needs_background": "light"
     },
     "output_type": "display_data"
    }
   ],
   "source": "plt.imshow(input_pred, cmap='gray')"
  },
  {
   "cell_type": "code",
   "execution_count": 243,
   "metadata": {
    "trusted": true
   },
   "outputs": [
    {
     "data": {
      "text/plain": "<matplotlib.image.AxesImage at 0x7f563f6d6d60>"
     },
     "execution_count": 243,
     "metadata": {},
     "output_type": "execute_result"
    },
    {
     "data": {
      "image/png": "[encoded data removed]",
      "text/plain": "<Figure size 432x288 with 1 Axes>"
     },
     "metadata": {
      "needs_background": "light"
     },
     "output_type": "display_data"
    }
   ],
   "source": "rivet = Image.open(\"gray.jpg\").resize((image_size, image_size))\nplt.imshow(rivet)"
  },
  {
   "cell_type": "code",
   "execution_count": null,
   "metadata": {
    "trusted": true
   },
   "outputs": [],
   "source": ""
  }
 ],
 "metadata": {
  "kernelspec": {
   "display_name": "Python 3",
   "language": "python",
   "name": "python3"
  },
  "language_info": {
   "codemirror_mode": {
    "name": "ipython",
    "version": 3
   },
   "file_extension": ".py",
   "mimetype": "text/x-python",
   "name": "python",
   "nbconvert_exporter": "python",
   "pygments_lexer": "ipython3",
   "version": "3.8.7"
  }
 },
 "nbformat": 4,
 "nbformat_minor": 4
}