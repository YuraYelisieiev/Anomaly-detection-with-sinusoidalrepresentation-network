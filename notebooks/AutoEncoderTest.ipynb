{
 "cells": [
  {
   "cell_type": "code",
   "execution_count": 1,
   "metadata": {},
   "outputs": [],
   "source": [
    "import torch\n",
    "import torch.nn as nn\n",
    "import torch.nn.functional as F\n",
    "import os\n",
    "from glob import glob\n",
    "from data import RivetPatchesDataset, RivetsAnnoAutoEncoder\n",
    "import core\n",
    "from torch.utils.data import DataLoader\n",
    "from torchvision import transforms\n",
    "from autoencoder import Autoencoder\n",
    "from exp_summary import setup_final_summary, save_losses, generate_exp_name\n",
    "import matplotlib.pyplot as plt\n",
    "import numpy as np\n",
    "import sys\n",
    "import random "
   ]
  },
  {
   "cell_type": "code",
   "execution_count": 2,
   "metadata": {},
   "outputs": [
    {
     "name": "stdout",
     "output_type": "stream",
     "text": [
      "loading annotations into memory...\n",
      "Done (t=0.01s)\n",
      "creating index...\n",
      "index created!\n",
      "loading annotations into memory...\n",
      "Done (t=0.00s)\n",
      "creating index...\n",
      "index created!\n"
     ]
    }
   ],
   "source": [
    "os.environ[\"CUDA_VISIBLE_DEVICES\"] = \"1\"\n",
    "data_dir = \"/mnt/data/luftronix/luftr_data/anno_data/\"\n",
    "files = glob('{}/*.png'.format(data_dir))\n",
    "RANDOM_SEED = 42\n",
    "torch.manual_seed(RANDOM_SEED)\n",
    "model = Autoencoder()\n",
    "\n",
    "transform = transforms.Compose(\n",
    "    [transforms.Resize((32, 32)),\n",
    "     transforms.ToTensor(),\n",
    "     transforms.Normalize((0.5, 0.5, 0.5), (0.5, 0.5, 0.5))])\n",
    "train_dataset = RivetsAnnoAutoEncoder(\"ds_yak_20190416_nau_fuselage-20190822_train.json\", data_dir, \"ds_yak_20190416_nau_fuselage\", 16, transform)\n",
    "val_dataset = RivetsAnnoAutoEncoder(\"ds_yak_20190416_nau_fuselage-20190822_val.json\", data_dir, \"ds_yak_20190416_nau_fuselage\", 16, transform)\n",
    "    \n",
    "\n",
    "train_loader = DataLoader(dataset=train_dataset, \n",
    "                          batch_size=1, \n",
    "                          shuffle=True)\n",
    "\n",
    "val_loader = DataLoader(dataset=val_dataset, \n",
    "                          batch_size=1, \n",
    "                          shuffle=False)"
   ]
  },
  {
   "cell_type": "code",
   "execution_count": 3,
   "metadata": {},
   "outputs": [
    {
     "name": "stdout",
     "output_type": "stream",
     "text": [
      "./experiments/Sparrow/log.txt\n",
      "KKKE ./experiments/Sparrow/log.txt\n"
     ]
    }
   ],
   "source": [
    "normal_out = sys.stdout\n",
    "exp_dir, assets_dir, log_file = setup_final_summary(\"./\")\n",
    "print(log_file)\n",
    "log = open(log_file, \"a\")\n",
    "sys.stdout = log"
   ]
  },
  {
   "cell_type": "code",
   "execution_count": 4,
   "metadata": {},
   "outputs": [],
   "source": [
    "criterion = nn.MSELoss()\n",
    "optimizer = torch.optim.Adam(model.parameters(), lr=0.001)\n",
    "epochs = 1\n",
    "for e in range(1, epochs+1):\n",
    "    train_loss = 0.0  # monitor training loss\n",
    "    for data in train_loader:\n",
    "        images = data                        # we are just intrested in just images\n",
    "        # no need to flatten images\n",
    "        optimizer.zero_grad()\n",
    "        images = images.squeeze()\n",
    "        outputs = model(images)                  # forward pass: compute predicted outputs \n",
    "        loss = criterion(outputs, images)        # calculate the loss\n",
    "        loss.backward()                          # backward pass\n",
    "        optimizer.step()                         # perform optimization step\n",
    "        train_loss += loss.item()*images.size(0) # update running training loss\n",
    "            \n",
    "    # print avg training statistics \n",
    "    train_loss = train_loss/len(train_loader)\n",
    "    print('Epoch: {}'.format(e),\n",
    "        '\\tTraining Loss: {:.4f}'.format(train_loss))"
   ]
  },
  {
   "cell_type": "code",
   "execution_count": 5,
   "metadata": {},
   "outputs": [
    {
     "data": {
      "image/png": "[encoded data removed]",
      "text/plain": [
       "<Figure size 432x288 with 1 Axes>"
      ]
     },
     "metadata": {
      "needs_background": "light"
     },
     "output_type": "display_data"
    }
   ],
   "source": [
    "save_losses(log_file, assets_dir)"
   ]
  },
  {
   "cell_type": "code",
   "execution_count": null,
   "metadata": {},
   "outputs": [],
   "source": [
    "def calculateDistance(i1, i2):\n",
    "    return np.sum((i1-i2)**2)"
   ]
  },
  {
   "cell_type": "code",
   "execution_count": null,
   "metadata": {},
   "outputs": [],
   "source": [
    "dataiter = iter(val_loader)\n",
    "images = dataiter.next()\n",
    "images = images.squeeze()\n",
    "output = model(images)\n",
    "images = images.numpy()                    \n",
    "output = output.view(16, 3, 32, 32)# resizing output\n",
    "output = output.detach().numpy()# use detach when it's an output that requires_grad\n",
    "print(\"Image distances: \", file=LOG_FILE)\n",
    "print(calculateDistance(images, output), file=LOG_FILE)\n",
    "save_visual_examples(images, output, assets_dir)\n",
    "# plot the first ten input images and then reconstructed images\n"
   ]
  },
  {
   "cell_type": "code",
   "execution_count": null,
   "metadata": {},
   "outputs": [],
   "source": []
  }
 ],
 "metadata": {
  "kernelspec": {
   "display_name": "LuftronixPyTorch",
   "language": "python",
   "name": "luftronixpytorch"
  },
  "language_info": {
   "codemirror_mode": {
    "name": "ipython",
    "version": 3
   },
   "file_extension": ".py",
   "mimetype": "text/x-python",
   "name": "python",
   "nbconvert_exporter": "python",
   "pygments_lexer": "ipython3",
   "version": "3.8.5"
  }
 },
 "nbformat": 4,
 "nbformat_minor": 4
}
