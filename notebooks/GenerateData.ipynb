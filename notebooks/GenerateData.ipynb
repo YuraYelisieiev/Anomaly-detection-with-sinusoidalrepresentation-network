{
 "cells": [
  {
   "cell_type": "code",
   "execution_count": 5,
   "metadata": {},
   "outputs": [],
   "source": [
    "from torch.utils.data import Dataset\n",
    "from torch.utils.data import DataLoader\n",
    "from torchvision import transforms, utils\n",
    "import torch\n",
    "import numpy as np\n",
    "from PIL import Image, ImageMath\n",
    "from pycocotools.coco import COCO\n",
    "import os\n",
    "import skimage.io as io\n",
    "import matplotlib.pyplot as plt\n",
    "import yaml\n",
    "from glob import glob\n",
    "from copy import deepcopy\n",
    "import cv2\n",
    "import torchvision.models as models\n",
    "from utils import tri_mirror"
   ]
  },
  {
   "cell_type": "code",
   "execution_count": 6,
   "metadata": {},
   "outputs": [],
   "source": [
    "class TextureDataset(Dataset):\n",
    "    def __init__(self, config, transform):\n",
    "        self.root_dir = config['data']['data_dir']\n",
    "        self.image_size = config['data']['image_size']\n",
    "        self.image_type = config['data']['image_type']\n",
    "        \n",
    "        self.transform = transform\n",
    "        self.img_channels = 1\n",
    "        \n",
    "        self.file_list = []\n",
    "        for root, dirs, files in os.walk(self.root_dir):\n",
    "            for file in files:\n",
    "                self.file_list.append(os.path.join(root, file))\n",
    "    \n",
    "    def __len__(self):\n",
    "        return len(self.file_list)\n",
    "    \n",
    "    def __getitem__(self, idx):\n",
    "        X = dict()\n",
    "        img_path = self.file_list[idx]\n",
    "        print(\"Img path: \", img_path)\n",
    "        rivet = Image.open(img_path).resize((self.image_size, self.image_size))\n",
    "        center = self.image_size // 2\n",
    "        cv = self.image_size // 4\n",
    "        \n",
    "        if self.image_type == \"Corrupted\":\n",
    "            rivet = np.array(rivet).astype(np.float32)\n",
    "            center_rivet = deepcopy(rivet[center - cv: center + cv, center - cv: center + cv])\n",
    "            rivet[center - cv: center + cv, center - cv: center + cv] = 0.0\n",
    "\n",
    "#             rivet_rgb = np.zeros((rivet.shape[0], rivet.shape[0], 3))\n",
    "#             rivet_rgb[:,:, 0] = rivet\n",
    "#             rivet_rgb[:,:, 1] = rivet\n",
    "#             rivet_rgb[:,:, 2] = rivet\n",
    "            rivet = Image.fromarray((rivet*255).astype(np.uint8))\n",
    "            center_rivet = center_rivet.astype(np.uint8)\n",
    "            center_rivet = Image.fromarray(center_rivet)\n",
    "                \n",
    "        elif self.image_type == \"TriMir\":\n",
    "            rivet = tri_mirror(rivet, center, cv)\n",
    "            \n",
    "        rivet = self.transform(rivet)\n",
    "        center_rivet = self.transform(center_rivet)\n",
    "        \n",
    "        center_rivet = center_rivet.unsqueeze(0)\n",
    "\n",
    "        X['Rivet'] = rivet\n",
    "        X['Center'] = center_rivet\n",
    "        \n",
    "        return X"
   ]
  },
  {
   "cell_type": "code",
   "execution_count": 3,
   "metadata": {},
   "outputs": [],
   "source": [
    "with open(\"config.yaml\", \"r\") as f:\n",
    "    config = yaml.load(f, Loader=yaml.FullLoader)\n",
    "\n",
    "transform = transforms.Compose([transforms.ToTensor()])\n",
    "\n",
    "dataset = TextureDataset(config, transform)\n",
    "dataloader = DataLoader(dataset, batch_size=1, shuffle=True, num_workers=0)"
   ]
  },
  {
   "cell_type": "code",
   "execution_count": 18,
   "metadata": {},
   "outputs": [
    {
     "name": "stdout",
     "output_type": "stream",
     "text": [
      "Img path:  /home/yyelisieiev/luftr_data/TextureDataset/train/Kyberge_floor1/37.jpg\n",
      "torch.Size([1, 3, 64, 64])\n"
     ]
    },
    {
     "data": {
      "image/png": "[encoded data removed]",
      "text/plain": [
       "<Figure size 432x288 with 1 Axes>"
      ]
     },
     "metadata": {
      "needs_background": "light"
     },
     "output_type": "display_data"
    }
   ],
   "source": [
    "for index, inputs in enumerate(dataloader):\n",
    "    print(inputs['Rivet'].shape)\n",
    "    plt.imshow(inputs['Rivet'][0].permute(1, 2, 0))\n",
    "    break\n",
    "#         im.save(os.path.join(rivet_dir, f\"{index}_{image_idx}_rivet.tif\"))"
   ]
  },
  {
   "cell_type": "code",
   "execution_count": null,
   "metadata": {},
   "outputs": [],
   "source": []
  },
  {
   "cell_type": "code",
   "execution_count": null,
   "metadata": {},
   "outputs": [],
   "source": []
  }
 ],
 "metadata": {
  "kernelspec": {
   "display_name": "Python 3",
   "language": "python",
   "name": "python3"
  },
  "language_info": {
   "codemirror_mode": {
    "name": "ipython",
    "version": 3
   },
   "file_extension": ".py",
   "mimetype": "text/x-python",
   "name": "python",
   "nbconvert_exporter": "python",
   "pygments_lexer": "ipython3",
   "version": "3.8.7"
  }
 },
 "nbformat": 4,
 "nbformat_minor": 4
}
